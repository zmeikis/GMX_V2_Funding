{
 "cells": [
  {
   "cell_type": "code",
   "execution_count": 32,
   "metadata": {},
   "outputs": [],
   "source": [
    "import pandas as pd\n",
    "import numpy as np\n",
    "import matplotlib.pyplot as plt\n",
    "import seaborn as sns\n"
   ]
  },
  {
   "cell_type": "code",
   "execution_count": 34,
   "metadata": {},
   "outputs": [
    {
     "name": "stdout",
     "output_type": "stream",
     "text": [
      "Loading data for market: 0x70d95587d40a2caf56bd97485ab3eec10bee6336\n",
      "Loaded 704325 funding, 882792 borrowing, 343118 open interest records\n",
      "After filtering: 105918 funding, 111900 borrowing, 49795 OI records\n",
      "\n",
      "Funding isLong: {True: 82778, False: 23140}\n",
      "Borrowing isLong: {True: 55950, False: 55950}\n",
      "Open Interest isLong: {True: 30901, False: 18894}\n"
     ]
    }
   ],
   "source": [
    "import pandas as pd\n",
    "\n",
    "# File paths\n",
    "FUNDING_FILE = './data/funding_updates_final.csv'\n",
    "BORROWING_FILE = './data/borrowing_updates_final.csv'\n",
    "OPEN_INTEREST_FILE = './data/open_interest_updates_final.csv'\n",
    "\n",
    "# ETH/USD market address\n",
    "target_market = '0x70d95587d40a2caf56bd97485ab3eec10bee6336'\n",
    "\n",
    "print(f\"Loading data for market: {target_market}\")\n",
    "\n",
    "# Load the data\n",
    "funding_df = pd.read_csv(FUNDING_FILE)\n",
    "borrowing_df = pd.read_csv(BORROWING_FILE)\n",
    "open_interest_df = pd.read_csv(OPEN_INTEREST_FILE)\n",
    "\n",
    "print(f\"Loaded {len(funding_df)} funding, {len(borrowing_df)} borrowing, {len(open_interest_df)} open interest records\")\n",
    "\n",
    "# Filter everything by our target market\n",
    "market_funding = funding_df[funding_df['market'].str.lower() == target_market.lower()].copy()\n",
    "market_borrowing = borrowing_df[borrowing_df['market'].str.lower() == target_market.lower()].copy()\n",
    "market_open_interest = open_interest_df[open_interest_df['market'].str.lower() == target_market.lower()].copy()\n",
    "\n",
    "print(f\"After filtering: {len(market_funding)} funding, {len(market_borrowing)} borrowing, {len(market_open_interest)} OI records\")\n",
    "\n",
    "# Save to new files\n",
    "market_funding.to_csv('./data/filtered_by_market_funding_updates.csv', index=False)\n",
    "market_borrowing.to_csv('./data/filtered_by_market_borrowing_updates.csv', index=False)\n",
    "market_open_interest.to_csv('./data/filtered_by_market_open_interest_updates.csv', index=False)\n",
    "\n",
    "# Quick data check\n",
    "print(f\"\\nFunding isLong: {market_funding['isLong'].value_counts().to_dict()}\")\n",
    "print(f\"Borrowing isLong: {market_borrowing['isLong'].value_counts().to_dict()}\")\n",
    "print(f\"Open Interest isLong: {market_open_interest['isLong'].value_counts().to_dict()}\")\n"
   ]
  },
  {
   "cell_type": "code",
   "execution_count": 35,
   "metadata": {},
   "outputs": [
    {
     "name": "stdout",
     "output_type": "stream",
     "text": [
      "Loading data for market: 0x70d95587d40a2caf56bd97485ab3eec10bee6336\n",
      "Loaded 704325 funding, 882792 borrowing, 343118 open interest records\n",
      "After filtering: 105918 funding, 111900 borrowing, 49795 OI records\n",
      "\n",
      "Funding isLong: {True: 82778, False: 23140}\n",
      "Borrowing isLong: {True: 55950, False: 55950}\n",
      "Open Interest isLong: {True: 30901, False: 18894}\n"
     ]
    }
   ],
   "source": [
    "import pandas as pd\n",
    "\n",
    "# File paths\n",
    "FUNDING_FILE = './data/funding_updates_final.csv'\n",
    "BORROWING_FILE = './data/borrowing_updates_final.csv'\n",
    "OPEN_INTEREST_FILE = './data/open_interest_updates_final.csv'\n",
    "\n",
    "# ETH/USD market address\n",
    "target_market = '0x70d95587d40a2caf56bd97485ab3eec10bee6336'\n",
    "\n",
    "print(f\"Loading data for market: {target_market}\")\n",
    "\n",
    "# Load the data\n",
    "funding_df = pd.read_csv(FUNDING_FILE)\n",
    "borrowing_df = pd.read_csv(BORROWING_FILE)\n",
    "open_interest_df = pd.read_csv(OPEN_INTEREST_FILE)\n",
    "\n",
    "print(f\"Loaded {len(funding_df)} funding, {len(borrowing_df)} borrowing, {len(open_interest_df)} open interest records\")\n",
    "\n",
    "# Filter everything by our target market\n",
    "market_funding = funding_df[funding_df['market'].str.lower() == target_market.lower()].copy()\n",
    "market_borrowing = borrowing_df[borrowing_df['market'].str.lower() == target_market.lower()].copy()\n",
    "market_open_interest = open_interest_df[open_interest_df['market'].str.lower() == target_market.lower()].copy()\n",
    "\n",
    "print(f\"After filtering: {len(market_funding)} funding, {len(market_borrowing)} borrowing, {len(market_open_interest)} OI records\")\n",
    "\n",
    "# Save to new files\n",
    "market_funding.to_csv('./data/filtered_by_market_funding_updates.csv', index=False)\n",
    "market_borrowing.to_csv('./data/filtered_by_market_borrowing_updates.csv', index=False)\n",
    "market_open_interest.to_csv('./data/filtered_by_market_open_interest_updates.csv', index=False)\n",
    "\n",
    "# Quick data check\n",
    "print(f\"\\nFunding isLong: {market_funding['isLong'].value_counts().to_dict()}\")\n",
    "print(f\"Borrowing isLong: {market_borrowing['isLong'].value_counts().to_dict()}\")\n",
    "print(f\"Open Interest isLong: {market_open_interest['isLong'].value_counts().to_dict()}\")\n"
   ]
  },
  {
   "cell_type": "code",
   "execution_count": 40,
   "metadata": {},
   "outputs": [
    {
     "name": "stdout",
     "output_type": "stream",
     "text": [
      "Loading filtered data...\n",
      "Loaded 105918 funding, 111900 borrowing, 49795 open interest records\n",
      "Testing Web3 connection...\n",
      "Connected! Latest block: 350511842\n",
      "Finding all unique blocks...\n",
      "Total unique blocks to fetch: 54368\n",
      "Fetching timestamps...\n"
     ]
    },
    {
     "name": "stderr",
     "output_type": "stream",
     "text": [
      "Fetching timestamps:  92%|█████████▏| 49757/54368 [2:40:36<1:10:06,  1.10it/s]"
     ]
    },
    {
     "name": "stdout",
     "output_type": "stream",
     "text": [
      "Error getting timestamp for block 323604715: ('Connection aborted.', RemoteDisconnected('Remote end closed connection without response'))\n"
     ]
    },
    {
     "name": "stderr",
     "output_type": "stream",
     "text": [
      "Fetching timestamps: 100%|██████████| 54368/54368 [2:53:57<00:00,  5.21it/s]  \n"
     ]
    },
    {
     "name": "stdout",
     "output_type": "stream",
     "text": [
      "Successfully fetched 54367 timestamps\n",
      "Adding timestamps to datasets...\n",
      "\n",
      "Completed! Files saved:\n",
      "Funding: (105918, 8)\n",
      "Borrowing: (111900, 7)\n",
      "Open Interest: (49795, 8)\n",
      "\n",
      "Warning: Missing timestamps - Funding: 2, Borrowing: 2, OI: 0\n",
      "\n",
      "Date range: 2025-03-30 06:58:48 to 2025-05-29 08:30:46\n"
     ]
    }
   ],
   "source": [
    "from web3 import Web3\n",
    "import pandas as pd\n",
    "from tqdm import tqdm\n",
    "import time\n",
    "\n",
    "RPC_ENDPOINT = 'https://ultra-special-sound.arbitrum-mainnet.quiknode.pro/471f8faf6838742a15e50d7f9161adc72f8738c9/'\n",
    "w3 = Web3(Web3.HTTPProvider(RPC_ENDPOINT))\n",
    "\n",
    "def get_timestamp_by_block(block_number: int):\n",
    "    \"\"\"Get timestamp for a given block number with error handling\"\"\"\n",
    "    try:\n",
    "        return w3.eth.get_block(block_number).timestamp\n",
    "    except Exception as e:\n",
    "        print(f\"Error getting timestamp for block {block_number}: {e}\")\n",
    "        return None\n",
    "\n",
    "# Load the filtered data first\n",
    "print(\"Loading filtered data...\")\n",
    "market_funding = pd.read_csv('./data/filtered_by_market_funding_updates.csv')\n",
    "market_borrowing = pd.read_csv('./data/filtered_by_market_borrowing_updates.csv')\n",
    "market_open_interest = pd.read_csv('./data/filtered_by_market_open_interest_updates.csv')\n",
    "\n",
    "print(f\"Loaded {len(market_funding)} funding, {len(market_borrowing)} borrowing, {len(market_open_interest)} open interest records\")\n",
    "\n",
    "# Test Web3 connection\n",
    "print(\"Testing Web3 connection...\")\n",
    "try:\n",
    "    latest_block = w3.eth.block_number\n",
    "    print(f\"Connected! Latest block: {latest_block}\")\n",
    "except Exception as e:\n",
    "    print(f\"Connection failed: {e}\")\n",
    "    exit()\n",
    "\n",
    "# Get ALL unique blocks from all datasets (avoid duplicate fetching)\n",
    "print(\"Finding all unique blocks...\")\n",
    "all_unique_blocks = set()\n",
    "all_unique_blocks.update(market_funding['blockNumber'].unique())\n",
    "all_unique_blocks.update(market_borrowing['blockNumber'].unique())\n",
    "all_unique_blocks.update(market_open_interest['blockNumber'].unique())\n",
    "\n",
    "print(f\"Total unique blocks to fetch: {len(all_unique_blocks)}\")\n",
    "\n",
    "# Fetch timestamps for all unique blocks\n",
    "print(\"Fetching timestamps...\")\n",
    "block_to_timestamp = {}\n",
    "\n",
    "for block_num in tqdm(all_unique_blocks, desc=\"Fetching timestamps\"):\n",
    "    timestamp = get_timestamp_by_block(int(block_num))\n",
    "    if timestamp is not None:\n",
    "        block_to_timestamp[block_num] = timestamp\n",
    "    \n",
    "    time.sleep(0.1)  # Reduced delay since we're being more efficient\n",
    "\n",
    "print(f\"Successfully fetched {len(block_to_timestamp)} timestamps\")\n",
    "\n",
    "# Add timestamps to all datasets using the same mapping\n",
    "print(\"Adding timestamps to datasets...\")\n",
    "market_funding['timestamp'] = market_funding['blockNumber'].map(block_to_timestamp)\n",
    "market_funding['datetime'] = pd.to_datetime(market_funding['timestamp'], unit='s')\n",
    "\n",
    "market_borrowing['timestamp'] = market_borrowing['blockNumber'].map(block_to_timestamp)\n",
    "market_borrowing['datetime'] = pd.to_datetime(market_borrowing['timestamp'], unit='s')\n",
    "\n",
    "market_open_interest['timestamp'] = market_open_interest['blockNumber'].map(block_to_timestamp)\n",
    "market_open_interest['datetime'] = pd.to_datetime(market_open_interest['timestamp'], unit='s')\n",
    "\n",
    "# Save all three files\n",
    "market_funding.to_csv('./data/market_funding_with_timestamps.csv', index=False)\n",
    "market_borrowing.to_csv('./data/market_borrowing_with_timestamps.csv', index=False)\n",
    "market_open_interest.to_csv('./data/market_open_interest_with_timestamps.csv', index=False)\n",
    "\n",
    "print(\"\\nCompleted! Files saved:\")\n",
    "print(f\"Funding: {market_funding.shape}\")\n",
    "print(f\"Borrowing: {market_borrowing.shape}\")\n",
    "print(f\"Open Interest: {market_open_interest.shape}\")\n",
    "\n",
    "# Check for any missing timestamps\n",
    "missing_funding = market_funding['timestamp'].isna().sum()\n",
    "missing_borrowing = market_borrowing['timestamp'].isna().sum()\n",
    "missing_oi = market_open_interest['timestamp'].isna().sum()\n",
    "\n",
    "if missing_funding + missing_borrowing + missing_oi > 0:\n",
    "    print(f\"\\nWarning: Missing timestamps - Funding: {missing_funding}, Borrowing: {missing_borrowing}, OI: {missing_oi}\")\n",
    "\n",
    "# Show date ranges\n",
    "if len(market_funding) > 0:\n",
    "    print(f\"\\nDate range: {market_funding['datetime'].min()} to {market_funding['datetime'].max()}\")\n"
   ]
  }
 ],
 "metadata": {
  "kernelspec": {
   "display_name": "base",
   "language": "python",
   "name": "python3"
  },
  "language_info": {
   "codemirror_mode": {
    "name": "ipython",
    "version": 3
   },
   "file_extension": ".py",
   "mimetype": "text/x-python",
   "name": "python",
   "nbconvert_exporter": "python",
   "pygments_lexer": "ipython3",
   "version": "3.12.7"
  }
 },
 "nbformat": 4,
 "nbformat_minor": 2
}
